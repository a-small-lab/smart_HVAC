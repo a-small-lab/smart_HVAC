{
 "cells": [
  {
   "cell_type": "code",
   "execution_count": 3,
   "metadata": {},
   "outputs": [],
   "source": [
    "#importing required packages \n",
    "import datetime\n",
    "from datetime import timedelta\n",
    "import requests\n",
    "import json\n",
    "import pandas as pd\n",
    "import numpy as np\n",
    "import matplotlib.pyplot as plt\n",
    "import pytz\n",
    "import os"
   ]
  },
  {
   "cell_type": "code",
   "execution_count": 4,
   "metadata": {},
   "outputs": [
    {
     "name": "stdout",
     "output_type": "stream",
     "text": [
      "b'{\\n \"id\": \"2970\",\\n \"display_name\": \"UVA\",\\n \"active\": true\\n}'\n"
     ]
    }
   ],
   "source": [
    "#connecting to the api\n",
    "url = \"https://developer-apis.awair.is/v1/orgs/2970\"\n",
    "payload = {}\n",
    "headers= {'x-api-key':'4iS73nI45Lkt9ydm8i9wb4BADCCKf1Y9'}\n",
    "orgs = requests.request(\"GET\", url, headers=headers, data = payload)\n",
    "\n",
    "print(orgs.text.encode('utf8'))"
   ]
  },
  {
   "cell_type": "code",
   "execution_count": 5,
   "metadata": {},
   "outputs": [],
   "source": [
    "#Defining dictionaries for sensor ids and desired variables (keyList) you want to extract\n",
    "#sensor_ids = {\"sensor_name\": \"sensor_id\"}\n",
    "sensor_ids = {\"3\":16198}\n",
    "keyList = [\"pm25\", \"co2\", \"voc\", \"humid\", \"temp\", \"pm10_est\", \"score\", \"lux\", \"spl_a\"]"
   ]
  },
  {
   "cell_type": "code",
   "execution_count": 6,
   "metadata": {},
   "outputs": [],
   "source": [
    "#Define the desired time zone\n",
    "eastern = pytz.timezone('US/Eastern')\n",
    "\n",
    "#Define the year of which you want to extract the data for\n",
    "desired_year = 2021\n",
    "\n",
    "#Define the month of which you want to extract the data for\n",
    "desired_month = 10\n",
    "\n",
    "#Define the start day for the range you want to extract the data from\n",
    "start_day = 8\n",
    "\n",
    "#Define the end day for the range you want to extract the data from\n",
    "end_day = 10"
   ]
  },
  {
   "cell_type": "code",
   "execution_count": 7,
   "metadata": {},
   "outputs": [
    {
     "ename": "TypeError",
     "evalue": "Cannot convert tz-naive timestamps, use tz_localize to localize",
     "output_type": "error",
     "traceback": [
      "\u001b[1;31m---------------------------------------------------------------------------\u001b[0m",
      "\u001b[1;31mTypeError\u001b[0m                                 Traceback (most recent call last)",
      "\u001b[1;32m<ipython-input-7-4ff8d17dde60>\u001b[0m in \u001b[0;36m<module>\u001b[1;34m\u001b[0m\n\u001b[0;32m     45\u001b[0m     \u001b[0mfinal_file\u001b[0m \u001b[1;33m=\u001b[0m \u001b[0mfinal_file\u001b[0m\u001b[1;33m.\u001b[0m\u001b[0mdrop\u001b[0m\u001b[1;33m(\u001b[0m\u001b[1;33m[\u001b[0m\u001b[1;34m'timestamp'\u001b[0m\u001b[1;33m]\u001b[0m\u001b[1;33m,\u001b[0m \u001b[0maxis\u001b[0m\u001b[1;33m=\u001b[0m\u001b[1;36m1\u001b[0m\u001b[1;33m)\u001b[0m\u001b[1;33m\u001b[0m\u001b[1;33m\u001b[0m\u001b[0m\n\u001b[0;32m     46\u001b[0m     \u001b[1;31m# final_file = final_file[~final_file.index.duplicated()]\u001b[0m\u001b[1;33m\u001b[0m\u001b[1;33m\u001b[0m\u001b[1;33m\u001b[0m\u001b[0m\n\u001b[1;32m---> 47\u001b[1;33m     \u001b[0mfinal_file\u001b[0m\u001b[1;33m.\u001b[0m\u001b[0mindex\u001b[0m \u001b[1;33m=\u001b[0m \u001b[0mfinal_file\u001b[0m\u001b[1;33m.\u001b[0m\u001b[0mindex\u001b[0m\u001b[1;33m.\u001b[0m\u001b[0mtz_convert\u001b[0m\u001b[1;33m(\u001b[0m\u001b[0meastern\u001b[0m\u001b[1;33m)\u001b[0m\u001b[1;33m\u001b[0m\u001b[1;33m\u001b[0m\u001b[0m\n\u001b[0m\u001b[0;32m     48\u001b[0m     \u001b[0mfinal_file\u001b[0m\u001b[1;33m.\u001b[0m\u001b[0mto_csv\u001b[0m\u001b[1;33m(\u001b[0m\u001b[1;34m'data_sensor_{}.csv'\u001b[0m\u001b[1;33m.\u001b[0m\u001b[0mformat\u001b[0m\u001b[1;33m(\u001b[0m\u001b[0msensors\u001b[0m\u001b[1;33m)\u001b[0m\u001b[1;33m)\u001b[0m\u001b[1;33m\u001b[0m\u001b[1;33m\u001b[0m\u001b[0m\n\u001b[0;32m     49\u001b[0m     \u001b[0mprint\u001b[0m\u001b[1;33m(\u001b[0m\u001b[1;34m\"file is saved\"\u001b[0m\u001b[1;33m)\u001b[0m\u001b[1;33m\u001b[0m\u001b[1;33m\u001b[0m\u001b[0m\n",
      "\u001b[1;32m~\\anaconda3\\lib\\site-packages\\pandas\\core\\indexes\\extension.py\u001b[0m in \u001b[0;36mmethod\u001b[1;34m(self, *args, **kwargs)\u001b[0m\n\u001b[0;32m     76\u001b[0m \u001b[1;33m\u001b[0m\u001b[0m\n\u001b[0;32m     77\u001b[0m         \u001b[1;32mdef\u001b[0m \u001b[0mmethod\u001b[0m\u001b[1;33m(\u001b[0m\u001b[0mself\u001b[0m\u001b[1;33m,\u001b[0m \u001b[1;33m*\u001b[0m\u001b[0margs\u001b[0m\u001b[1;33m,\u001b[0m \u001b[1;33m**\u001b[0m\u001b[0mkwargs\u001b[0m\u001b[1;33m)\u001b[0m\u001b[1;33m:\u001b[0m\u001b[1;33m\u001b[0m\u001b[1;33m\u001b[0m\u001b[0m\n\u001b[1;32m---> 78\u001b[1;33m             \u001b[0mresult\u001b[0m \u001b[1;33m=\u001b[0m \u001b[0mattr\u001b[0m\u001b[1;33m(\u001b[0m\u001b[0mself\u001b[0m\u001b[1;33m.\u001b[0m\u001b[0m_data\u001b[0m\u001b[1;33m,\u001b[0m \u001b[1;33m*\u001b[0m\u001b[0margs\u001b[0m\u001b[1;33m,\u001b[0m \u001b[1;33m**\u001b[0m\u001b[0mkwargs\u001b[0m\u001b[1;33m)\u001b[0m\u001b[1;33m\u001b[0m\u001b[1;33m\u001b[0m\u001b[0m\n\u001b[0m\u001b[0;32m     79\u001b[0m             \u001b[1;32mif\u001b[0m \u001b[0mwrap\u001b[0m\u001b[1;33m:\u001b[0m\u001b[1;33m\u001b[0m\u001b[1;33m\u001b[0m\u001b[0m\n\u001b[0;32m     80\u001b[0m                 \u001b[1;32mif\u001b[0m \u001b[0misinstance\u001b[0m\u001b[1;33m(\u001b[0m\u001b[0mresult\u001b[0m\u001b[1;33m,\u001b[0m \u001b[0mtype\u001b[0m\u001b[1;33m(\u001b[0m\u001b[0mself\u001b[0m\u001b[1;33m.\u001b[0m\u001b[0m_data\u001b[0m\u001b[1;33m)\u001b[0m\u001b[1;33m)\u001b[0m\u001b[1;33m:\u001b[0m\u001b[1;33m\u001b[0m\u001b[1;33m\u001b[0m\u001b[0m\n",
      "\u001b[1;32m~\\anaconda3\\lib\\site-packages\\pandas\\core\\arrays\\datetimes.py\u001b[0m in \u001b[0;36mtz_convert\u001b[1;34m(self, tz)\u001b[0m\n\u001b[0;32m    799\u001b[0m         \u001b[1;32mif\u001b[0m \u001b[0mself\u001b[0m\u001b[1;33m.\u001b[0m\u001b[0mtz\u001b[0m \u001b[1;32mis\u001b[0m \u001b[1;32mNone\u001b[0m\u001b[1;33m:\u001b[0m\u001b[1;33m\u001b[0m\u001b[1;33m\u001b[0m\u001b[0m\n\u001b[0;32m    800\u001b[0m             \u001b[1;31m# tz naive, use tz_localize\u001b[0m\u001b[1;33m\u001b[0m\u001b[1;33m\u001b[0m\u001b[1;33m\u001b[0m\u001b[0m\n\u001b[1;32m--> 801\u001b[1;33m             raise TypeError(\n\u001b[0m\u001b[0;32m    802\u001b[0m                 \u001b[1;34m\"Cannot convert tz-naive timestamps, use tz_localize to localize\"\u001b[0m\u001b[1;33m\u001b[0m\u001b[1;33m\u001b[0m\u001b[0m\n\u001b[0;32m    803\u001b[0m             )\n",
      "\u001b[1;31mTypeError\u001b[0m: Cannot convert tz-naive timestamps, use tz_localize to localize"
     ]
    }
   ],
   "source": [
    "for sensors, ids in sensor_ids.items():\n",
    "    datadict = {}\n",
    "    for i in keyList:\n",
    "        datadict[i] = []\n",
    "    for day in range(start_day,end_day):\n",
    "        for hour in range(24):\n",
    "                \n",
    "            t = datetime.datetime(desired_year, desired_month, day, hour, 0, 0)\n",
    "        \n",
    "            x = t + timedelta(hours = 1)\n",
    "            \n",
    "            t = t.isoformat()\n",
    "            x = x.isoformat()\n",
    "            url = \"https://developer-apis.awair.is/v1/orgs/2970/devices/awair-omni/{}/air-data/raw?from={}&to={}&limit=360&desc=false&fahrenheit=false\".format(ids,t, x)\n",
    "        \n",
    "                \n",
    "            devices = requests.request(\"GET\", url, headers=headers, data = payload)\n",
    "            a = devices.text.encode('utf8')\n",
    "            \n",
    "            a = json.loads(a)\n",
    "            \n",
    "            \n",
    "            for i in range(len(a['data'])):\n",
    "                for j in range(len(a[\"data\"][i][\"sensors\"])):                        \n",
    "                    if a[\"data\"][i][\"sensors\"][j]['comp'] in datadict.keys():\n",
    "                        print(a['data'][i]['timestamp'])\n",
    "                        datadict[a[\"data\"][i][\"sensors\"][j]['comp']].append([a['data'][i]['timestamp'], a[\"data\"][i][\"sensors\"][j]['value']])\n",
    "                        \n",
    "                        \n",
    "    \n",
    "    for ikey, key in zip(range(len(datadict.keys())), datadict.keys()):\n",
    "        column_names_key = [\"timestamp\", key]\n",
    "        df_key = pd.DataFrame(datadict[key], columns = column_names_key)\n",
    "        \n",
    "        if ikey == 0:\n",
    "            df_all_key = df_key.copy()\n",
    "        \n",
    "        elif ikey > 0:\n",
    "            df_all_key = pd.merge(df_all_key, df_key, on='timestamp')\n",
    "    \n",
    "    \n",
    "    final_file = df_all_key.reset_index()\n",
    "    final_file = final_file.set_index(pd.DatetimeIndex(final_file['timestamp']))\n",
    "    final_file = final_file.drop(['index'], axis=1)\n",
    "    final_file = final_file.drop(['timestamp'], axis=1)\n",
    "    # final_file = final_file[~final_file.index.duplicated()] \n",
    "    final_file.index = final_file.index.tz_convert(eastern)\n",
    "    final_file.to_csv('data_sensor_{}.csv'.format(sensors))\n",
    "    print(\"file is saved\")"
   ]
  },
  {
   "cell_type": "code",
   "execution_count": null,
   "metadata": {},
   "outputs": [],
   "source": []
  }
 ],
 "metadata": {
  "kernelspec": {
   "display_name": "Python 3",
   "language": "python",
   "name": "python3"
  },
  "language_info": {
   "codemirror_mode": {
    "name": "ipython",
    "version": 3
   },
   "file_extension": ".py",
   "mimetype": "text/x-python",
   "name": "python",
   "nbconvert_exporter": "python",
   "pygments_lexer": "ipython3",
   "version": "3.8.5"
  }
 },
 "nbformat": 4,
 "nbformat_minor": 5
}
